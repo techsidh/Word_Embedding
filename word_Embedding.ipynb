{
  "nbformat": 4,
  "nbformat_minor": 0,
  "metadata": {
    "colab": {
      "provenance": [],
      "authorship_tag": "ABX9TyO15fWLXnnWEVMOqz2YYs5N",
      "include_colab_link": true
    },
    "kernelspec": {
      "name": "python3",
      "display_name": "Python 3"
    },
    "language_info": {
      "name": "python"
    }
  },
  "cells": [
    {
      "cell_type": "markdown",
      "metadata": {
        "id": "view-in-github",
        "colab_type": "text"
      },
      "source": [
        "<a href=\"https://colab.research.google.com/github/techsidh/Word_Embedding/blob/main/word_Embedding.ipynb\" target=\"_parent\"><img src=\"https://colab.research.google.com/assets/colab-badge.svg\" alt=\"Open In Colab\"/></a>"
      ]
    },
    {
      "cell_type": "code",
      "execution_count": 3,
      "metadata": {
        "colab": {
          "base_uri": "https://localhost:8080/"
        },
        "id": "srXkmTgRvVoO",
        "outputId": "2fbec8f8-6da6-4e72-ead5-9e5d204c6f4c"
      },
      "outputs": [
        {
          "output_type": "stream",
          "name": "stdout",
          "text": [
            "2.12.0\n"
          ]
        }
      ],
      "source": [
        "import tensorflow as tf\n",
        "print(tf.__version__)"
      ]
    },
    {
      "cell_type": "code",
      "source": [
        "import pandas as pd\n",
        "import nltk as nlp\n",
        "nlp.download('punkt')\n",
        "import gensim\n",
        "from gensim.models import Word2Vec,keyedvectors"
      ],
      "metadata": {
        "colab": {
          "base_uri": "https://localhost:8080/"
        },
        "id": "z0rdVLG9vuf9",
        "outputId": "5312e945-8504-4231-a42b-9091d6f47d2d"
      },
      "execution_count": 1,
      "outputs": [
        {
          "output_type": "stream",
          "name": "stderr",
          "text": [
            "[nltk_data] Downloading package punkt to /root/nltk_data...\n",
            "[nltk_data]   Unzipping tokenizers/punkt.zip.\n"
          ]
        }
      ]
    },
    {
      "cell_type": "code",
      "source": [
        "#https://www.kaggle.com/datasets/rootuser/worldnews-on-reddit"
      ],
      "metadata": {
        "id": "1044BEnMysh-"
      },
      "execution_count": null,
      "outputs": []
    },
    {
      "cell_type": "code",
      "source": [
        "#install kaggle API\n",
        "!pip install -q kaggle"
      ],
      "metadata": {
        "id": "WE2wt2ckwUGj"
      },
      "execution_count": 2,
      "outputs": []
    },
    {
      "cell_type": "code",
      "source": [
        "#create directory\n",
        "!mkdir -p ~/.kaggle"
      ],
      "metadata": {
        "id": "pEQXRAfa2A8U"
      },
      "execution_count": 4,
      "outputs": []
    },
    {
      "cell_type": "code",
      "source": [
        "#Copy the API key from directory\n",
        "!cp kaggle.json ~/.kaggle"
      ],
      "metadata": {
        "id": "BrfKBCZ22D3y"
      },
      "execution_count": 5,
      "outputs": []
    },
    {
      "cell_type": "code",
      "source": [
        "#disable the API key\n",
        "!chmod 600 /root/.kaggle/kaggle.json"
      ],
      "metadata": {
        "id": "wjkWfDwy0g-A"
      },
      "execution_count": 6,
      "outputs": []
    },
    {
      "cell_type": "code",
      "source": [
        "#import dataset\n",
        "!kaggle datasets download -d rootuser/worldnews-on-reddit"
      ],
      "metadata": {
        "colab": {
          "base_uri": "https://localhost:8080/"
        },
        "id": "Pkv0fZP8w5Kz",
        "outputId": "cb363c76-09ad-42fa-d53a-8d5fb4ea0a59"
      },
      "execution_count": 7,
      "outputs": [
        {
          "output_type": "stream",
          "name": "stdout",
          "text": [
            "Downloading worldnews-on-reddit.zip to /content\n",
            "100% 26.6M/26.6M [00:01<00:00, 26.4MB/s]\n",
            "100% 26.6M/26.6M [00:01<00:00, 18.4MB/s]\n"
          ]
        }
      ]
    },
    {
      "cell_type": "code",
      "source": [
        "#unzip the file\n",
        "!unzip /content/worldnews-on-reddit"
      ],
      "metadata": {
        "id": "OMcB4Qc_ySgQ",
        "colab": {
          "base_uri": "https://localhost:8080/"
        },
        "outputId": "b3b095bc-1027-4fae-eddc-a6176b079424"
      },
      "execution_count": 8,
      "outputs": [
        {
          "output_type": "stream",
          "name": "stdout",
          "text": [
            "Archive:  /content/worldnews-on-reddit.zip\n",
            "  inflating: reddit_worldnews_start_to_2016-11-22.csv  \n"
          ]
        }
      ]
    },
    {
      "cell_type": "code",
      "source": [
        "df = pd.read_csv(\"/content/reddit_worldnews_start_to_2016-11-22.csv\")\n",
        "df.head()"
      ],
      "metadata": {
        "colab": {
          "base_uri": "https://localhost:8080/",
          "height": 206
        },
        "id": "dqgOQZMc23Jw",
        "outputId": "d469d024-8f0a-440c-9e09-5d98a047a1d8"
      },
      "execution_count": 9,
      "outputs": [
        {
          "output_type": "execute_result",
          "data": {
            "text/plain": [
              "   time_created date_created  up_votes  down_votes  \\\n",
              "0    1201232046   2008-01-25         3           0   \n",
              "1    1201232075   2008-01-25         2           0   \n",
              "2    1201232523   2008-01-25         3           0   \n",
              "3    1201233290   2008-01-25         1           0   \n",
              "4    1201274720   2008-01-25         4           0   \n",
              "\n",
              "                                             title  over_18    author  \\\n",
              "0                Scores killed in Pakistan clashes    False     polar   \n",
              "1                 Japan resumes refuelling mission    False     polar   \n",
              "2                  US presses Egypt on Gaza border    False     polar   \n",
              "3     Jump-start economy: Give health care to all     False   fadi420   \n",
              "4  Council of Europe bashes EU&UN terror blacklist    False  mhermans   \n",
              "\n",
              "   subreddit  \n",
              "0  worldnews  \n",
              "1  worldnews  \n",
              "2  worldnews  \n",
              "3  worldnews  \n",
              "4  worldnews  "
            ],
            "text/html": [
              "\n",
              "\n",
              "  <div id=\"df-f301d1f8-3ac6-46e3-978c-50c0a363b643\">\n",
              "    <div class=\"colab-df-container\">\n",
              "      <div>\n",
              "<style scoped>\n",
              "    .dataframe tbody tr th:only-of-type {\n",
              "        vertical-align: middle;\n",
              "    }\n",
              "\n",
              "    .dataframe tbody tr th {\n",
              "        vertical-align: top;\n",
              "    }\n",
              "\n",
              "    .dataframe thead th {\n",
              "        text-align: right;\n",
              "    }\n",
              "</style>\n",
              "<table border=\"1\" class=\"dataframe\">\n",
              "  <thead>\n",
              "    <tr style=\"text-align: right;\">\n",
              "      <th></th>\n",
              "      <th>time_created</th>\n",
              "      <th>date_created</th>\n",
              "      <th>up_votes</th>\n",
              "      <th>down_votes</th>\n",
              "      <th>title</th>\n",
              "      <th>over_18</th>\n",
              "      <th>author</th>\n",
              "      <th>subreddit</th>\n",
              "    </tr>\n",
              "  </thead>\n",
              "  <tbody>\n",
              "    <tr>\n",
              "      <th>0</th>\n",
              "      <td>1201232046</td>\n",
              "      <td>2008-01-25</td>\n",
              "      <td>3</td>\n",
              "      <td>0</td>\n",
              "      <td>Scores killed in Pakistan clashes</td>\n",
              "      <td>False</td>\n",
              "      <td>polar</td>\n",
              "      <td>worldnews</td>\n",
              "    </tr>\n",
              "    <tr>\n",
              "      <th>1</th>\n",
              "      <td>1201232075</td>\n",
              "      <td>2008-01-25</td>\n",
              "      <td>2</td>\n",
              "      <td>0</td>\n",
              "      <td>Japan resumes refuelling mission</td>\n",
              "      <td>False</td>\n",
              "      <td>polar</td>\n",
              "      <td>worldnews</td>\n",
              "    </tr>\n",
              "    <tr>\n",
              "      <th>2</th>\n",
              "      <td>1201232523</td>\n",
              "      <td>2008-01-25</td>\n",
              "      <td>3</td>\n",
              "      <td>0</td>\n",
              "      <td>US presses Egypt on Gaza border</td>\n",
              "      <td>False</td>\n",
              "      <td>polar</td>\n",
              "      <td>worldnews</td>\n",
              "    </tr>\n",
              "    <tr>\n",
              "      <th>3</th>\n",
              "      <td>1201233290</td>\n",
              "      <td>2008-01-25</td>\n",
              "      <td>1</td>\n",
              "      <td>0</td>\n",
              "      <td>Jump-start economy: Give health care to all</td>\n",
              "      <td>False</td>\n",
              "      <td>fadi420</td>\n",
              "      <td>worldnews</td>\n",
              "    </tr>\n",
              "    <tr>\n",
              "      <th>4</th>\n",
              "      <td>1201274720</td>\n",
              "      <td>2008-01-25</td>\n",
              "      <td>4</td>\n",
              "      <td>0</td>\n",
              "      <td>Council of Europe bashes EU&amp;UN terror blacklist</td>\n",
              "      <td>False</td>\n",
              "      <td>mhermans</td>\n",
              "      <td>worldnews</td>\n",
              "    </tr>\n",
              "  </tbody>\n",
              "</table>\n",
              "</div>\n",
              "      <button class=\"colab-df-convert\" onclick=\"convertToInteractive('df-f301d1f8-3ac6-46e3-978c-50c0a363b643')\"\n",
              "              title=\"Convert this dataframe to an interactive table.\"\n",
              "              style=\"display:none;\">\n",
              "\n",
              "  <svg xmlns=\"http://www.w3.org/2000/svg\" height=\"24px\"viewBox=\"0 0 24 24\"\n",
              "       width=\"24px\">\n",
              "    <path d=\"M0 0h24v24H0V0z\" fill=\"none\"/>\n",
              "    <path d=\"M18.56 5.44l.94 2.06.94-2.06 2.06-.94-2.06-.94-.94-2.06-.94 2.06-2.06.94zm-11 1L8.5 8.5l.94-2.06 2.06-.94-2.06-.94L8.5 2.5l-.94 2.06-2.06.94zm10 10l.94 2.06.94-2.06 2.06-.94-2.06-.94-.94-2.06-.94 2.06-2.06.94z\"/><path d=\"M17.41 7.96l-1.37-1.37c-.4-.4-.92-.59-1.43-.59-.52 0-1.04.2-1.43.59L10.3 9.45l-7.72 7.72c-.78.78-.78 2.05 0 2.83L4 21.41c.39.39.9.59 1.41.59.51 0 1.02-.2 1.41-.59l7.78-7.78 2.81-2.81c.8-.78.8-2.07 0-2.86zM5.41 20L4 18.59l7.72-7.72 1.47 1.35L5.41 20z\"/>\n",
              "  </svg>\n",
              "      </button>\n",
              "\n",
              "\n",
              "\n",
              "    <div id=\"df-5590fa6f-ae47-411f-9aec-c89ba8ed5758\">\n",
              "      <button class=\"colab-df-quickchart\" onclick=\"quickchart('df-5590fa6f-ae47-411f-9aec-c89ba8ed5758')\"\n",
              "              title=\"Suggest charts.\"\n",
              "              style=\"display:none;\">\n",
              "\n",
              "<svg xmlns=\"http://www.w3.org/2000/svg\" height=\"24px\"viewBox=\"0 0 24 24\"\n",
              "     width=\"24px\">\n",
              "    <g>\n",
              "        <path d=\"M19 3H5c-1.1 0-2 .9-2 2v14c0 1.1.9 2 2 2h14c1.1 0 2-.9 2-2V5c0-1.1-.9-2-2-2zM9 17H7v-7h2v7zm4 0h-2V7h2v10zm4 0h-2v-4h2v4z\"/>\n",
              "    </g>\n",
              "</svg>\n",
              "      </button>\n",
              "    </div>\n",
              "\n",
              "<style>\n",
              "  .colab-df-quickchart {\n",
              "    background-color: #E8F0FE;\n",
              "    border: none;\n",
              "    border-radius: 50%;\n",
              "    cursor: pointer;\n",
              "    display: none;\n",
              "    fill: #1967D2;\n",
              "    height: 32px;\n",
              "    padding: 0 0 0 0;\n",
              "    width: 32px;\n",
              "  }\n",
              "\n",
              "  .colab-df-quickchart:hover {\n",
              "    background-color: #E2EBFA;\n",
              "    box-shadow: 0px 1px 2px rgba(60, 64, 67, 0.3), 0px 1px 3px 1px rgba(60, 64, 67, 0.15);\n",
              "    fill: #174EA6;\n",
              "  }\n",
              "\n",
              "  [theme=dark] .colab-df-quickchart {\n",
              "    background-color: #3B4455;\n",
              "    fill: #D2E3FC;\n",
              "  }\n",
              "\n",
              "  [theme=dark] .colab-df-quickchart:hover {\n",
              "    background-color: #434B5C;\n",
              "    box-shadow: 0px 1px 3px 1px rgba(0, 0, 0, 0.15);\n",
              "    filter: drop-shadow(0px 1px 2px rgba(0, 0, 0, 0.3));\n",
              "    fill: #FFFFFF;\n",
              "  }\n",
              "</style>\n",
              "\n",
              "    <script>\n",
              "      async function quickchart(key) {\n",
              "        const containerElement = document.querySelector('#' + key);\n",
              "        const charts = await google.colab.kernel.invokeFunction(\n",
              "            'suggestCharts', [key], {});\n",
              "      }\n",
              "    </script>\n",
              "\n",
              "      <script>\n",
              "\n",
              "function displayQuickchartButton(domScope) {\n",
              "  let quickchartButtonEl =\n",
              "    domScope.querySelector('#df-5590fa6f-ae47-411f-9aec-c89ba8ed5758 button.colab-df-quickchart');\n",
              "  quickchartButtonEl.style.display =\n",
              "    google.colab.kernel.accessAllowed ? 'block' : 'none';\n",
              "}\n",
              "\n",
              "        displayQuickchartButton(document);\n",
              "      </script>\n",
              "      <style>\n",
              "    .colab-df-container {\n",
              "      display:flex;\n",
              "      flex-wrap:wrap;\n",
              "      gap: 12px;\n",
              "    }\n",
              "\n",
              "    .colab-df-convert {\n",
              "      background-color: #E8F0FE;\n",
              "      border: none;\n",
              "      border-radius: 50%;\n",
              "      cursor: pointer;\n",
              "      display: none;\n",
              "      fill: #1967D2;\n",
              "      height: 32px;\n",
              "      padding: 0 0 0 0;\n",
              "      width: 32px;\n",
              "    }\n",
              "\n",
              "    .colab-df-convert:hover {\n",
              "      background-color: #E2EBFA;\n",
              "      box-shadow: 0px 1px 2px rgba(60, 64, 67, 0.3), 0px 1px 3px 1px rgba(60, 64, 67, 0.15);\n",
              "      fill: #174EA6;\n",
              "    }\n",
              "\n",
              "    [theme=dark] .colab-df-convert {\n",
              "      background-color: #3B4455;\n",
              "      fill: #D2E3FC;\n",
              "    }\n",
              "\n",
              "    [theme=dark] .colab-df-convert:hover {\n",
              "      background-color: #434B5C;\n",
              "      box-shadow: 0px 1px 3px 1px rgba(0, 0, 0, 0.15);\n",
              "      filter: drop-shadow(0px 1px 2px rgba(0, 0, 0, 0.3));\n",
              "      fill: #FFFFFF;\n",
              "    }\n",
              "  </style>\n",
              "\n",
              "      <script>\n",
              "        const buttonEl =\n",
              "          document.querySelector('#df-f301d1f8-3ac6-46e3-978c-50c0a363b643 button.colab-df-convert');\n",
              "        buttonEl.style.display =\n",
              "          google.colab.kernel.accessAllowed ? 'block' : 'none';\n",
              "\n",
              "        async function convertToInteractive(key) {\n",
              "          const element = document.querySelector('#df-f301d1f8-3ac6-46e3-978c-50c0a363b643');\n",
              "          const dataTable =\n",
              "            await google.colab.kernel.invokeFunction('convertToInteractive',\n",
              "                                                     [key], {});\n",
              "          if (!dataTable) return;\n",
              "\n",
              "          const docLinkHtml = 'Like what you see? Visit the ' +\n",
              "            '<a target=\"_blank\" href=https://colab.research.google.com/notebooks/data_table.ipynb>data table notebook</a>'\n",
              "            + ' to learn more about interactive tables.';\n",
              "          element.innerHTML = '';\n",
              "          dataTable['output_type'] = 'display_data';\n",
              "          await google.colab.output.renderOutput(dataTable, element);\n",
              "          const docLink = document.createElement('div');\n",
              "          docLink.innerHTML = docLinkHtml;\n",
              "          element.appendChild(docLink);\n",
              "        }\n",
              "      </script>\n",
              "    </div>\n",
              "  </div>\n"
            ]
          },
          "metadata": {},
          "execution_count": 9
        }
      ]
    },
    {
      "cell_type": "code",
      "source": [
        "#preprocessing\n",
        "df['title'] = [item.strip('.,!;()[]') for item in df['title']]\n",
        "df['title'] = [item.replace(\"'s\",\"\") for item in df['title']]"
      ],
      "metadata": {
        "id": "JXI31PeRAEzd"
      },
      "execution_count": 10,
      "outputs": []
    },
    {
      "cell_type": "code",
      "source": [
        "#create new df and pass columns\n",
        "new_df = df['title'].values\n",
        "new_df[:5]"
      ],
      "metadata": {
        "id": "UXpAW6Yg2-eZ",
        "colab": {
          "base_uri": "https://localhost:8080/"
        },
        "outputId": "a713754f-cf40-4f25-b458-0ca8a7018148"
      },
      "execution_count": 11,
      "outputs": [
        {
          "output_type": "execute_result",
          "data": {
            "text/plain": [
              "array(['Scores killed in Pakistan clashes',\n",
              "       'Japan resumes refuelling mission',\n",
              "       'US presses Egypt on Gaza border',\n",
              "       'Jump-start economy: Give health care to all ',\n",
              "       'Council of Europe bashes EU&UN terror blacklist'], dtype=object)"
            ]
          },
          "metadata": {},
          "execution_count": 11
        }
      ]
    },
    {
      "cell_type": "code",
      "source": [
        "#tokenize the words\n",
        "new_doc = [nlp.word_tokenize(title) for title in new_df]"
      ],
      "metadata": {
        "id": "DBP1tamv5ptF"
      },
      "execution_count": 12,
      "outputs": []
    },
    {
      "cell_type": "code",
      "source": [
        "#unique =[unique.append(word) for word in new_doc if word not in unique]\n"
      ],
      "metadata": {
        "id": "BKZgRsMRL3Ri"
      },
      "execution_count": 13,
      "outputs": []
    },
    {
      "cell_type": "markdown",
      "source": [
        "#**Build the model**"
      ],
      "metadata": {
        "id": "0W2Ta_Rv6azl"
      }
    },
    {
      "cell_type": "code",
      "source": [
        "model = Word2Vec(new_doc,min_count = 1)"
      ],
      "metadata": {
        "id": "XlSyViVn5rzA"
      },
      "execution_count": 14,
      "outputs": []
    },
    {
      "cell_type": "code",
      "source": [
        "model.wv['man']"
      ],
      "metadata": {
        "colab": {
          "base_uri": "https://localhost:8080/"
        },
        "id": "VuMt7bhb9YgA",
        "outputId": "7c615ed6-8613-4243-c61b-24f99d98b202"
      },
      "execution_count": 15,
      "outputs": [
        {
          "output_type": "execute_result",
          "data": {
            "text/plain": [
              "array([ 0.8520852 ,  0.88916135,  0.18379578,  0.86348796,  1.3330113 ,\n",
              "        0.14833403, -3.353425  , -0.3310652 ,  0.6804652 , -0.51253253,\n",
              "        0.31410536, -1.1974094 , -0.9619152 ,  1.4972972 , -2.0729651 ,\n",
              "       -0.006225  , -0.8757179 ,  0.21776906,  0.598756  ,  1.71485   ,\n",
              "        2.9117293 , -0.25556812, -3.5820355 ,  0.62526155,  2.6830583 ,\n",
              "       -0.6653633 ,  0.7593883 ,  0.41923594,  1.6742368 , -3.2159195 ,\n",
              "        2.4090087 ,  1.571801  ,  3.5292084 ,  1.1484979 ,  2.0758274 ,\n",
              "       -1.082163  ,  2.6822908 , -1.0490053 ,  1.6660172 , -2.6438448 ,\n",
              "       -1.6267136 ,  0.7504232 ,  3.7018206 , -0.72569126,  0.83178484,\n",
              "        2.3416018 ,  0.3716345 , -1.9208072 , -1.5159824 ,  1.8234147 ,\n",
              "       -0.37070277, -2.426011  , -2.863833  , -0.31522366,  2.8037012 ,\n",
              "       -0.24407719, -0.07993543,  0.4703106 , -0.88577867,  1.482311  ,\n",
              "        1.7558441 , -1.0106685 , -0.5880291 ,  0.01285714,  0.26205277,\n",
              "        0.07143997,  0.0680619 , -0.0502133 ,  4.2790194 , -0.4797641 ,\n",
              "       -1.1107682 ,  2.474378  , -0.9030536 ,  1.0808746 ,  0.07821371,\n",
              "       -1.1239884 , -2.1038752 , -3.2306535 , -2.051946  ,  1.0551645 ,\n",
              "       -1.5886012 , -0.03716263, -1.9438536 , -0.31217465,  1.7709739 ,\n",
              "        2.241574  , -1.7300153 , -3.0289352 ,  0.15397932,  1.0797235 ,\n",
              "       -1.5770341 , -2.1345737 , -0.20360827,  1.1564775 ,  1.674828  ,\n",
              "        0.18675359,  0.3734132 ,  0.61009485, -0.11110506,  2.5368733 ],\n",
              "      dtype=float32)"
            ]
          },
          "metadata": {},
          "execution_count": 15
        }
      ]
    },
    {
      "cell_type": "markdown",
      "source": [
        "# **Make Predication**"
      ],
      "metadata": {
        "id": "gctYpO9-8eS7"
      }
    },
    {
      "cell_type": "code",
      "source": [
        "model.wv.most_similar('man')"
      ],
      "metadata": {
        "colab": {
          "base_uri": "https://localhost:8080/"
        },
        "id": "wpdWG-lF8Mih",
        "outputId": "708ad93a-c1a0-4f54-e42e-6012b39458fb"
      },
      "execution_count": 16,
      "outputs": [
        {
          "output_type": "execute_result",
          "data": {
            "text/plain": [
              "[('woman', 0.8972364068031311),\n",
              " ('teenager', 0.8397316932678223),\n",
              " ('boy', 0.8153242468833923),\n",
              " ('girl', 0.8120362758636475),\n",
              " ('couple', 0.7977145314216614),\n",
              " ('doctor', 0.7636650204658508),\n",
              " ('teen', 0.7562502026557922),\n",
              " ('mother', 0.7497239112854004),\n",
              " ('policeman', 0.7437554001808167),\n",
              " ('teacher', 0.7236011624336243)]"
            ]
          },
          "metadata": {},
          "execution_count": 16
        }
      ]
    },
    {
      "cell_type": "code",
      "source": [
        "model.wv.most_similar('women')"
      ],
      "metadata": {
        "colab": {
          "base_uri": "https://localhost:8080/"
        },
        "id": "PfOjR7aC9Lf2",
        "outputId": "9886b0f3-6890-4abb-f895-7604463ef893"
      },
      "execution_count": 17,
      "outputs": [
        {
          "output_type": "execute_result",
          "data": {
            "text/plain": [
              "[('girls', 0.7951263189315796),\n",
              " ('children', 0.7433196306228638),\n",
              " ('mothers', 0.7213404178619385),\n",
              " ('boys', 0.719315767288208),\n",
              " ('men', 0.7132453918457031),\n",
              " ('foreigners', 0.6902288794517517),\n",
              " ('parents', 0.6772558093070984),\n",
              " ('male', 0.6713031530380249),\n",
              " ('kids', 0.6608520746231079),\n",
              " ('students', 0.6595377326011658)]"
            ]
          },
          "metadata": {},
          "execution_count": 17
        }
      ]
    },
    {
      "cell_type": "code",
      "source": [
        "vec = model.wv['male'] - model.wv['boys'] + model.wv['girls']\n",
        "model.wv.most_similar([vec])"
      ],
      "metadata": {
        "colab": {
          "base_uri": "https://localhost:8080/"
        },
        "id": "H5YSuymB748v",
        "outputId": "820a8f8d-9a7f-41b7-b61b-7aed12af1f37"
      },
      "execution_count": null,
      "outputs": [
        {
          "output_type": "execute_result",
          "data": {
            "text/plain": [
              "[('girls', 0.9116224050521851),\n",
              " ('male', 0.851266086101532),\n",
              " ('children', 0.7922102212905884),\n",
              " ('parents', 0.7697563767433167),\n",
              " ('babies', 0.7679945230484009),\n",
              " ('pupils', 0.7457920908927917),\n",
              " ('women', 0.7420491576194763),\n",
              " ('pregnant', 0.7372562289237976),\n",
              " ('mothers', 0.7363564968109131),\n",
              " ('boys', 0.7359686493873596)]"
            ]
          },
          "metadata": {},
          "execution_count": 66
        }
      ]
    },
    {
      "cell_type": "code",
      "source": [
        "vec = model.wv['Messi'] - model.wv['football'] + model.wv['Cricket']\n",
        "model.wv.most_similar([vec])"
      ],
      "metadata": {
        "colab": {
          "base_uri": "https://localhost:8080/"
        },
        "id": "H7ztX-xM9-Ev",
        "outputId": "d8d2cf40-031f-43c3-93c6-20c8faa72fe7"
      },
      "execution_count": 18,
      "outputs": [
        {
          "output_type": "execute_result",
          "data": {
            "text/plain": [
              "[('Prove', 0.5811315774917603),\n",
              " ('Outlined', 0.578154444694519),\n",
              " ('Seal', 0.5734817981719971),\n",
              " ('Hawkish', 0.5725472569465637),\n",
              " ('Agusta', 0.5722052454948425),\n",
              " ('Share', 0.5711199641227722),\n",
              " ('Kerry-Brokered', 0.5554336309432983),\n",
              " ('Sending', 0.5541881322860718),\n",
              " ('Acquire', 0.553803026676178),\n",
              " ('Expand', 0.5533211827278137)]"
            ]
          },
          "metadata": {},
          "execution_count": 18
        }
      ]
    },
    {
      "cell_type": "code",
      "source": [],
      "metadata": {
        "id": "zA91sMU2UO_Q"
      },
      "execution_count": null,
      "outputs": []
    }
  ]
}