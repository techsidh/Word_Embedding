{
  "nbformat": 4,
  "nbformat_minor": 0,
  "metadata": {
    "colab": {
      "provenance": [],
      "authorship_tag": "ABX9TyOs1dFt0W2kOMYs+kn3DVys",
      "include_colab_link": true
    },
    "kernelspec": {
      "name": "python3",
      "display_name": "Python 3"
    },
    "language_info": {
      "name": "python"
    }
  },
  "cells": [
    {
      "cell_type": "markdown",
      "metadata": {
        "id": "view-in-github",
        "colab_type": "text"
      },
      "source": [
        "<a href=\"https://colab.research.google.com/github/techsidh/Word_Embedding/blob/main/KeyedVectors_word_Embedding.ipynb\" target=\"_parent\"><img src=\"https://colab.research.google.com/assets/colab-badge.svg\" alt=\"Open In Colab\"/></a>"
      ]
    },
    {
      "cell_type": "code",
      "execution_count": 1,
      "metadata": {
        "colab": {
          "base_uri": "https://localhost:8080/"
        },
        "id": "srXkmTgRvVoO",
        "outputId": "9d8eebec-c121-4ba4-9b01-bb2751f99ba1"
      },
      "outputs": [
        {
          "output_type": "stream",
          "name": "stdout",
          "text": [
            "2.12.0\n"
          ]
        }
      ],
      "source": [
        "import tensorflow as tf\n",
        "print(tf.__version__)"
      ]
    },
    {
      "cell_type": "code",
      "source": [
        "import pandas as pd\n",
        "import nltk as nlp\n",
        "nlp.download('punkt')\n",
        "import gensim\n",
        "from gensim.models import Word2Vec,keyedvectors"
      ],
      "metadata": {
        "colab": {
          "base_uri": "https://localhost:8080/"
        },
        "id": "z0rdVLG9vuf9",
        "outputId": "4afcd66b-da5e-49f8-ced4-9a6c739b81ea"
      },
      "execution_count": 2,
      "outputs": [
        {
          "output_type": "stream",
          "name": "stderr",
          "text": [
            "[nltk_data] Downloading package punkt to /root/nltk_data...\n",
            "[nltk_data]   Unzipping tokenizers/punkt.zip.\n"
          ]
        }
      ]
    },
    {
      "cell_type": "code",
      "source": [
        "#install kaggle API\n",
        "!pip install -q kaggle"
      ],
      "metadata": {
        "id": "WE2wt2ckwUGj"
      },
      "execution_count": 3,
      "outputs": []
    },
    {
      "cell_type": "code",
      "source": [
        "#create directory\n",
        "!mkdir -p ~/.kaggle"
      ],
      "metadata": {
        "id": "pEQXRAfa2A8U"
      },
      "execution_count": 4,
      "outputs": []
    },
    {
      "cell_type": "code",
      "source": [
        "#Copy the API key from directory\n",
        "!cp kaggle.json ~/.kaggle"
      ],
      "metadata": {
        "id": "BrfKBCZ22D3y"
      },
      "execution_count": 5,
      "outputs": []
    },
    {
      "cell_type": "code",
      "source": [
        "#disable the API key\n",
        "!chmod 600 /root/.kaggle/kaggle.json"
      ],
      "metadata": {
        "id": "wjkWfDwy0g-A"
      },
      "execution_count": 6,
      "outputs": []
    },
    {
      "cell_type": "code",
      "source": [
        "#import dataset\n",
        "!kaggle datasets download -d umbertogriffo/googles-trained-word2vec-model-in-python"
      ],
      "metadata": {
        "colab": {
          "base_uri": "https://localhost:8080/"
        },
        "id": "Pkv0fZP8w5Kz",
        "outputId": "945282df-a390-48c7-8b7b-d897e7f53541"
      },
      "execution_count": 7,
      "outputs": [
        {
          "output_type": "stream",
          "name": "stdout",
          "text": [
            "Downloading googles-trained-word2vec-model-in-python.zip to /content\n",
            "100% 3.16G/3.17G [00:35<00:00, 138MB/s]\n",
            "100% 3.17G/3.17G [00:35<00:00, 95.4MB/s]\n"
          ]
        }
      ]
    },
    {
      "cell_type": "code",
      "source": [
        "#unzip the file\n",
        "!unzip /content/googles-trained-word2vec-model-in-python"
      ],
      "metadata": {
        "id": "OMcB4Qc_ySgQ",
        "colab": {
          "base_uri": "https://localhost:8080/"
        },
        "outputId": "5d3833b3-e6f4-4c19-8ea1-5902a3d18df9"
      },
      "execution_count": 8,
      "outputs": [
        {
          "output_type": "stream",
          "name": "stdout",
          "text": [
            "Archive:  /content/googles-trained-word2vec-model-in-python.zip\n",
            "  inflating: GoogleNews-vectors-negative300.bin  \n",
            "  inflating: GoogleNews-vectors-negative300.bin.gz  \n"
          ]
        }
      ]
    },
    {
      "cell_type": "code",
      "source": [
        "from gensim.models.word2vec import KeyedVectors\n",
        "model = KeyedVectors.load_word2vec_format(\"/content/GoogleNews-vectors-negative300.bin\",binary =True, limit = 100000)"
      ],
      "metadata": {
        "id": "dqgOQZMc23Jw"
      },
      "execution_count": 9,
      "outputs": []
    },
    {
      "cell_type": "code",
      "source": [
        "#unique =[unique.append(word) for word in new_doc if word not in unique]\n"
      ],
      "metadata": {
        "id": "BKZgRsMRL3Ri"
      },
      "execution_count": null,
      "outputs": []
    },
    {
      "cell_type": "markdown",
      "source": [
        "#**Build the model**"
      ],
      "metadata": {
        "id": "0W2Ta_Rv6azl"
      }
    },
    {
      "cell_type": "code",
      "source": [
        "model.most_similar('man')"
      ],
      "metadata": {
        "colab": {
          "base_uri": "https://localhost:8080/"
        },
        "id": "wpdWG-lF8Mih",
        "outputId": "8e240b2a-f80b-4653-a20d-073d204b8768"
      },
      "execution_count": 10,
      "outputs": [
        {
          "output_type": "execute_result",
          "data": {
            "text/plain": [
              "[('woman', 0.7664012908935547),\n",
              " ('boy', 0.6824871301651001),\n",
              " ('teenager', 0.6586930155754089),\n",
              " ('teenage_girl', 0.6147903203964233),\n",
              " ('girl', 0.5921714305877686),\n",
              " ('robber', 0.5585119128227234),\n",
              " ('teen_ager', 0.5549196600914001),\n",
              " ('men', 0.5489763021469116),\n",
              " ('guy', 0.5420035123825073),\n",
              " ('person', 0.5342026352882385)]"
            ]
          },
          "metadata": {},
          "execution_count": 10
        }
      ]
    },
    {
      "cell_type": "code",
      "source": [
        "model.most_similar('women')"
      ],
      "metadata": {
        "colab": {
          "base_uri": "https://localhost:8080/"
        },
        "id": "PfOjR7aC9Lf2",
        "outputId": "c2408d7b-7afc-4654-8ab9-32b17f12b4be"
      },
      "execution_count": 11,
      "outputs": [
        {
          "output_type": "execute_result",
          "data": {
            "text/plain": [
              "[('men', 0.767493724822998),\n",
              " ('Women', 0.7283449769020081),\n",
              " ('womens', 0.6786180734634399),\n",
              " ('girls', 0.6339040398597717),\n",
              " ('females', 0.6240420341491699),\n",
              " ('mothers', 0.6050933599472046),\n",
              " ('ladies', 0.5865179300308228),\n",
              " ('husbands', 0.5705342292785645),\n",
              " ('Men', 0.5693342089653015),\n",
              " ('female', 0.5556280612945557)]"
            ]
          },
          "metadata": {},
          "execution_count": 11
        }
      ]
    },
    {
      "cell_type": "code",
      "source": [
        "#https://g.co/kgs/zzZw1f\n"
      ],
      "metadata": {
        "id": "258X508b6jNX"
      },
      "execution_count": null,
      "outputs": []
    },
    {
      "cell_type": "code",
      "source": [
        "vec = model['male'] - model['boys'] + model['girls']\n",
        "model.most_similar([vec])"
      ],
      "metadata": {
        "colab": {
          "base_uri": "https://localhost:8080/"
        },
        "id": "H5YSuymB748v",
        "outputId": "c2520214-f23d-4ec2-9c4b-8f0da90bd712"
      },
      "execution_count": 12,
      "outputs": [
        {
          "output_type": "execute_result",
          "data": {
            "text/plain": [
              "[('male', 0.896284818649292),\n",
              " ('female', 0.8602482080459595),\n",
              " ('females', 0.7141246199607849),\n",
              " ('males', 0.6711750626564026),\n",
              " ('Female', 0.6060447692871094),\n",
              " ('women', 0.5867204070091248),\n",
              " ('Male', 0.5656598806381226),\n",
              " ('woman', 0.5103423595428467),\n",
              " ('gender', 0.5024511218070984),\n",
              " ('girls', 0.4766477644443512)]"
            ]
          },
          "metadata": {},
          "execution_count": 12
        }
      ]
    },
    {
      "cell_type": "code",
      "source": [
        "vec = model['Messi'] - model['football'] + model['Cricket']\n",
        "model.most_similar([vec])"
      ],
      "metadata": {
        "colab": {
          "base_uri": "https://localhost:8080/"
        },
        "id": "H7ztX-xM9-Ev",
        "outputId": "68f1f477-958f-4de1-d771-3382324b1256"
      },
      "execution_count": 13,
      "outputs": [
        {
          "output_type": "execute_result",
          "data": {
            "text/plain": [
              "[('Messi', 0.7156782150268555),\n",
              " ('Sehwag', 0.6401625871658325),\n",
              " ('Tendulkar', 0.6333481669425964),\n",
              " ('Lionel_Messi', 0.6231873035430908),\n",
              " ('Dhoni', 0.6228955388069153),\n",
              " ('Xavi', 0.6139817237854004),\n",
              " ('Yuvraj', 0.6133802533149719),\n",
              " ('Ponting', 0.6109511852264404),\n",
              " ('Dravid', 0.6104071736335754),\n",
              " ('Forlan', 0.6063129901885986)]"
            ]
          },
          "metadata": {},
          "execution_count": 13
        }
      ]
    },
    {
      "cell_type": "code",
      "source": [],
      "metadata": {
        "id": "zA91sMU2UO_Q"
      },
      "execution_count": null,
      "outputs": []
    }
  ]
}